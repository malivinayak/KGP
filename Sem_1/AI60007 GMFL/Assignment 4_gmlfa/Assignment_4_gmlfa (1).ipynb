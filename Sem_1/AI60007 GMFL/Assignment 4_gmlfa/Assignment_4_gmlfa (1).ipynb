{
  "cells": [
    {
      "cell_type": "markdown",
      "metadata": {
        "id": "DOWaUniyjU99"
      },
      "source": [
        "<div style=\"text-align: center;\">\n",
        "    <h2>Assignment-4</h2>\n",
        "</div>\n",
        "\n",
        "## GMLFA-Autumn, 2024\n",
        "\n",
        "### This is the supporting Notebook for the given assignment. You will be provided with the instructions and code skeleton of the questions.\n",
        "\n",
        "1. Please implement the codes on your own cosidering plagarism policy.\n",
        "2. Write code for corresponding questions in their designated places.\n",
        "3. Each group have to submit only one notebook (.ipynb) or python (.py) file.\n",
        "4. Use the device as GPU for this assignment, select change runtime type in google collab and select T4 GPU.\n"
      ]
    },
    {
      "cell_type": "markdown",
      "metadata": {
        "id": "3oJZS75_mIEN"
      },
      "source": [
        "## Group Information: To be filled by the candidates.\n",
        "\n",
        "### Group Number: ____\n",
        "### Members Roll Numbers: ____\n"
      ]
    },
    {
      "cell_type": "markdown",
      "metadata": {
        "id": "89tw_eQcmMOf"
      },
      "source": [
        "# Dataset"
      ]
    },
    {
      "cell_type": "markdown",
      "metadata": {
        "id": "BEmDAOpJ9ZOc"
      },
      "source": [
        "## Nations:\n",
        "\n",
        "The Nations dataset is a small knowledge graph with 14 entities, 55 relations, and 1992 triples describing countries and their political relationships.\n",
        "\n",
        "##Kinships:\n",
        "The Kinships dataset describes relationships between members of the Australian tribe Alyawarra and consists of 10,686 triples. It contains 104 entities representing members of the tribe and 26 relationship types that represent kinship terms such as Adiadya or Umbaidya.\n",
        ".\n"
      ]
    },
    {
      "cell_type": "markdown",
      "metadata": {
        "id": "b_iVis90CbLM"
      },
      "source": [
        "## Tasks:\n",
        "\n",
        "We are going to use the Nations and Kinships dataset to perform 1-hop question-answering and the Nations dataset for similar fact retrieval task.\n"
      ]
    },
    {
      "cell_type": "markdown",
      "metadata": {
        "id": "3pKM8lusE8K2"
      },
      "source": [
        "# **Imp: For 1-hop question-answering task, you are not allowed to use any library implementation for TransE and TransR. For evaluation, you can use the library.**\n",
        "# **You can write code structure as per your convenience** #"
      ]
    },
    {
      "cell_type": "code",
      "execution_count": null,
      "metadata": {
        "id": "5Q0Qa9c5CbLN"
      },
      "outputs": [],
      "source": [
        "!pip install pykeen"
      ]
    },
    {
      "cell_type": "code",
      "execution_count": null,
      "metadata": {
        "id": "TxRV6239qRRa"
      },
      "outputs": [],
      "source": [
        "import torch\n",
        "import torch.nn as nn\n",
        "import torch.optim as optim\n",
        "import numpy as np\n",
        "from tqdm import tqdm\n",
        "from pykeen.datasets import Nations  # Import Nations dataset\n",
        "\n",
        "# ----------------------------\n",
        "# 1. Set Random Seeds\n",
        "# ----------------------------\n",
        "torch.manual_seed(0)\n",
        "np.random.seed(0)\n",
        "\n",
        "# ----------------------------\n",
        "# 2. Device Configuration\n",
        "# ----------------------------\n",
        "device = torch.device(\"cuda\" if torch.cuda.is_available() else \"cpu\")\n",
        "\n",
        "# ----------------------------\n",
        "# 3. Data Loading and Triple Extraction\n",
        "# ----------------------------\n",
        "# Load the Nations dataset using PyKEEN\n",
        "dataset = Nations()\n",
        "train_triples = dataset.training.mapped_triples.tolist()\n",
        "test_triples = dataset.testing.mapped_triples.tolist()\n",
        "num_entities = dataset.num_entities\n",
        "num_relations = dataset.num_relations\n",
        "\n",
        "# Convert triples to the format (head, relation, tail)\n",
        "def extract_triples(triples):\n",
        "\n",
        "# ----------------------------\n",
        "# 4. TransE Model\n",
        "# ----------------------------\n",
        "class TransE(nn.Module):\n",
        "    def __init__(self, num_entities, num_relations, embedding_dim, margin, norm):\n",
        "\n",
        "\n",
        "    def forward(self, head, relation, tail):\n",
        "\n",
        "\n",
        "    def get_embeddings(self):\n",
        "\n",
        "# ----------------------------\n",
        "# 5. Bernoulli Negative Sampling\n",
        "# ----------------------------\n",
        "def bernoulli_negative_sample(triples, num_entities, num_samples):\n",
        "\n",
        "# ----------------------------\n",
        "# 6. Training Function with Bernoulli Negative Sampling\n",
        "# ----------------------------\n",
        "def train_transe(model, optimizer, criterion, train_triples, num_entities,\n",
        "                 batch_size, num_epochs, device):\n",
        "\n",
        "# ----------------------------\n",
        "# 7. Evaluation Function\n",
        "# ----------------------------\n",
        "def evaluate_model(model, test_triples, top_k, device):\n",
        "\n",
        "# ----------------------------\n",
        "# 8. Main Function to Vary Margin\n",
        "# ----------------------------\n",
        "def main():\n",
        "    # Varying the margin from 1 to 5\n",
        "    margin_values = [1, 2, 3, 4, 5]\n",
        "\n",
        "\n",
        "\n",
        "        # Initialize the TransE model with the current margin\n",
        "\n",
        "        # Train the model\n",
        "\n",
        "\n",
        "        # Evaluate the model\n",
        "\n",
        "if __name__ == \"__main__\":\n",
        "    main()\n",
        "\n"
      ]
    },
    {
      "cell_type": "code",
      "execution_count": null,
      "metadata": {
        "id": "zHoFOrXf_Z13"
      },
      "outputs": [],
      "source": [
        "#Similar code-structure for Trans-R as given in TransE\n",
        "\n"
      ]
    },
    {
      "cell_type": "markdown",
      "metadata": {
        "id": "vFxWvNXBCbLO"
      },
      "source": [
        "# **Similar Fact Retrieval**"
      ]
    },
    {
      "cell_type": "code",
      "execution_count": null,
      "metadata": {
        "id": "ZkGRYUhnBTtx"
      },
      "outputs": [],
      "source": [
        "# write your code here\n",
        "import torch\n",
        "from pykeen.pipeline import pipeline\n",
        "from pykeen.datasets import Nations\n",
        "import numpy as np\n",
        "\n",
        "# Load the Nations dataset\n",
        "dataset = Nations()\n",
        "# validation triples\n",
        "validation_triples = [\n",
        "   ('brazil', 'commonbloc1', 'india'),\n",
        "   ('burma', 'intergovorgs3', 'indonesia'),\n",
        "    ('china', 'accusation', 'uk'),\n",
        "    ('cuba', 'reldiplomacy', 'china'),\n",
        "    ('egypt', 'embassy', 'uk')\n",
        "]\n",
        "\n",
        "# Train the TransE and TransR model to get the embeddings\n",
        "\n",
        "\n",
        "# Get entity and relation indices\n",
        "def get_indices(triple, entity_to_id, relation_to_id):\n",
        "\n",
        "\n",
        "\n",
        "# Retrieve the top k similar triples\n",
        "def retrieve_similar_triples(model, validation_triples, training_triples, k):\n",
        "\n",
        "\n",
        "# Extract training triples from the dataset\n",
        "\n",
        "# Retrieve similar triples for each validation triple\n",
        "\n",
        "# Print the top 5 similar triples for each validation triple\n",
        "\n"
      ]
    }
  ],
  "metadata": {
    "colab": {
      "provenance": []
    },
    "kernelspec": {
      "display_name": "Python 3 (ipykernel)",
      "language": "python",
      "name": "python3"
    },
    "language_info": {
      "codemirror_mode": {
        "name": "ipython",
        "version": 3
      },
      "file_extension": ".py",
      "mimetype": "text/x-python",
      "name": "python",
      "nbconvert_exporter": "python",
      "pygments_lexer": "ipython3",
      "version": "3.12.4"
    }
  },
  "nbformat": 4,
  "nbformat_minor": 0
}