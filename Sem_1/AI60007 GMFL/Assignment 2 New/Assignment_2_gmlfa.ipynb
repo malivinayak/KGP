{
  "nbformat": 4,
  "nbformat_minor": 0,
  "metadata": {
    "colab": {
      "provenance": []
    },
    "kernelspec": {
      "name": "python3",
      "display_name": "Python 3"
    },
    "language_info": {
      "name": "python"
    }
  },
  "cells": [
    {
      "cell_type": "markdown",
      "source": [
        "#<center>Assignemnt-2</center>\n",
        "## GMLFA-Autumn,2024\n",
        "---\n",
        "\n",
        "### This is the supporting Notbook for the given assignment. You will be provided with the instructions and code skeleton of the questions.\n",
        "\n",
        "1. Please implement the codes on your own cosidering plagarism policy.\n",
        "2. Write code for corresponding questions in their designated places.\n",
        "3. Each group have to submit only one notebook (.ipynb) or python (.py) file."
      ],
      "metadata": {
        "id": "DOWaUniyjU99"
      }
    },
    {
      "cell_type": "markdown",
      "source": [
        "## Group Informtion: To be filled by the candidates.\n",
        "\n",
        "### Group Number: ____\n",
        "### Members Roll Numbers: ____\n"
      ],
      "metadata": {
        "id": "3oJZS75_mIEN"
      }
    },
    {
      "cell_type": "markdown",
      "source": [
        "# Dataset"
      ],
      "metadata": {
        "id": "89tw_eQcmMOf"
      }
    },
    {
      "cell_type": "markdown",
      "source": [
        "QM9 Dataset:\n",
        "\n",
        "The QM9 dataset is a widely used benchmark dataset in the field of graph neural networks (GNNs) and molecular property prediction. It contains about 134,000 small organic molecules with up to 9 heavy atoms (C, O, N, F). Each molecule is represented as a graph, where atoms are nodes and bonds are edges.\n",
        "\n",
        "Key features of QM9:\n",
        "- Number of graphs: ~134,000\n",
        "- Node features: Atom properties (e.g., atomic number, charge)\n",
        "- Edge features: Bond properties (e.g., bond type)\n",
        "- Graph labels: Various molecular properties (e.g., energy, dipole moment)\n",
        "\tAvailable target properties:\n",
        "0: mu, 1: alpha, 2: homo, 3: lumo, 4: gap, 5: r2, 6: zpve, 7: U0, 8: U, 9: H, 10: G, 11:Cv, 12: omega1\n",
        "\n",
        "Link: https://pytorch-geometric.readthedocs.io/en/latest/generated/torch_geometric.datasets.QM9.html\n",
        "\n",
        "The dataset is used for regression tasks, predicting molecular properties from graph structures.\n",
        "\n",
        "**Use Case:**\n",
        "We are going to use 1000 graphs for training, 100 graphs for validation and 100 graphs for test.\n",
        "We will use ‘0: mu (dipole moment)’, first property, as a label for the regression task.\n",
        "You will get the Data-Loaded in the code notebook.\n",
        "This is the Regression task so you have to take one label for every graph.\n"
      ],
      "metadata": {
        "id": "BEmDAOpJ9ZOc"
      }
    },
    {
      "cell_type": "code",
      "source": [
        "pip install torch_geometric"
      ],
      "metadata": {
        "id": "sDW5eCfI-JxG"
      },
      "execution_count": null,
      "outputs": []
    },
    {
      "cell_type": "code",
      "source": [
        "import torch\n",
        "import torch_geometric\n",
        "import matplotlib.pyplot as plt\n",
        "import numpy as np\n",
        "from torch.utils.data import random_split\n",
        "from torch_geometric.datasets import QM9\n",
        "from torch_geometric.data import DataLoader\n",
        "from torch_geometric.nn import MessagePassing\n",
        "import torch.nn as nn\n",
        "import torch.nn.functional as F\n",
        "from torch_geometric.nn import MessagePassing\n",
        "from torch_geometric.utils import add_self_loops, degree\n"
      ],
      "metadata": {
        "id": "TxRV6239qRRa"
      },
      "execution_count": null,
      "outputs": []
    },
    {
      "cell_type": "code",
      "source": [
        "# Load the QM9 dataset\n",
        "dataset = QM9(root='data/QM9')\n",
        "\n",
        "# Access a single graph in the dataset\n",
        "data = dataset[0]\n",
        "\n",
        "# Print general information about the dataset\n",
        "print(f\"Number of graphs in the dataset: {len(dataset)}\")\n",
        "print(f\"Number of features per node: {data.x.shape[1]}\")\n",
        "print(f\"Number of edge features: {data.edge_attr.shape[1]}\")\n",
        "print(f\"Number of nodes in the first graph: {data.num_nodes}\")\n",
        "print(f\"Number of edges in the first graph: {data.num_edges}\")\n",
        "print(f\"Number of edge features in the first graph: {data.edge_attr.size()}\")\n",
        "\n",
        "# Investigate the node features\n",
        "print(\"\\nNode features:\")\n",
        "print(data.x)\n",
        "\n",
        "# Investigate the edge features\n",
        "print(\"\\nEdge features:\")\n",
        "print(data.edge_attr)\n",
        "\n",
        "# Investigate the adjacency list (edges)\n",
        "print(\"\\nEdges (connectivity):\")\n",
        "print(data.edge_index)\n",
        "\n",
        "# Investigate the target properties (e.g., energy, dipole moment)\n",
        "print(\"\\nTarget properties:\")\n",
        "print(data.y)"
      ],
      "metadata": {
        "id": "7iKy-WIw-FkI"
      },
      "execution_count": null,
      "outputs": []
    },
    {
      "cell_type": "markdown",
      "source": [
        "# Preparing dataset for for the further process:"
      ],
      "metadata": {
        "id": "OJX18_oL-lCE"
      }
    },
    {
      "cell_type": "code",
      "source": [
        "# Creating a DataLoader\n",
        "\n",
        "def create_dataloader(dataset, batch_size=50, shuffle=True):\n",
        "    return DataLoader(dataset, batch_size=batch_size, shuffle=shuffle)\n",
        "\n",
        "train_loader = create_dataloader(dataset[:1000])  # Using a subset for demonstration\n",
        "val_loader = create_dataloader(dataset[1000:1100],shuffle=False)\n",
        "test_loader = create_dataloader(dataset[1100:1200],shuffle=False)\n",
        "\n",
        "print(f\"Number of batches in train_loader: {len(train_loader)}\")\n",
        "print(f\"Number of batches in val_loader: {len(val_loader)}\")\n",
        "print(f\"Number of batches in test_loader: {len(test_loader)}\")"
      ],
      "metadata": {
        "colab": {
          "base_uri": "https://localhost:8080/"
        },
        "id": "rsitIo24-kZf",
        "outputId": "030cb92f-43eb-4efe-9917-7c3310e0be67"
      },
      "execution_count": null,
      "outputs": [
        {
          "output_type": "stream",
          "name": "stdout",
          "text": [
            "Number of batches in train_loader: 20\n",
            "Number of batches in val_loader: 2\n",
            "Number of batches in test_loader: 2\n"
          ]
        },
        {
          "output_type": "stream",
          "name": "stderr",
          "text": [
            "/usr/local/lib/python3.10/dist-packages/torch_geometric/deprecation.py:26: UserWarning: 'data.DataLoader' is deprecated, use 'loader.DataLoader' instead\n",
            "  warnings.warn(out)\n"
          ]
        }
      ]
    },
    {
      "cell_type": "code",
      "source": [
        "pip install karateclub"
      ],
      "metadata": {
        "id": "mSJJk7oHBPkn"
      },
      "execution_count": null,
      "outputs": []
    },
    {
      "cell_type": "markdown",
      "source": [
        "# Part-1:\n",
        "\n",
        "References:\n",
        "1. https://karateclub.readthedocs.io/en/latest/_modules/karateclub/node_embedding/neighbourhood/node2vec.html\n",
        "\n",
        "2. https://karateclub.readthedocs.io/en/latest/_modules/karateclub/node_embedding/neighbourhood/deepwalk.html\n",
        "\n",
        "\n",
        "\n"
      ],
      "metadata": {
        "id": "JNBk_l58A2MA"
      }
    },
    {
      "cell_type": "code",
      "source": [
        "# Code Here"
      ],
      "metadata": {
        "id": "zHoFOrXf_Z13"
      },
      "execution_count": null,
      "outputs": []
    },
    {
      "cell_type": "markdown",
      "source": [
        "# **Imp: For the part 2 and 3 you are not allowed to use any library implementation of the models.**"
      ],
      "metadata": {
        "id": "UAttoi-BC3Lq"
      }
    },
    {
      "cell_type": "markdown",
      "source": [
        "## You are free to change the structure of the code as per you understanding."
      ],
      "metadata": {
        "id": "m5evPjj0D4c6"
      }
    },
    {
      "cell_type": "markdown",
      "source": [
        "## You can write the training loop at once or for individual model, we don't mind untill you produce the required output."
      ],
      "metadata": {
        "id": "6QEtnZSVESJq"
      }
    },
    {
      "cell_type": "markdown",
      "source": [
        "#Part-2:\n",
        "\n",
        "Here you to provide the custom implementation of Part-2, and then use that custom cretad layer to code the model.\n",
        "\n"
      ],
      "metadata": {
        "id": "JhGVod80BUI1"
      }
    },
    {
      "cell_type": "code",
      "source": [
        "# Code Here\n",
        "\n",
        "\n",
        "# Part 2: Graph Convolutional Neural Network (GCN)\n",
        "\n",
        "class GCNLayer(MessagePassing):\n",
        "    def __init__(self, in_channels, out_channels):\n",
        "        super(GCNLayer, self).__init__(aggr='add')\n",
        "        self.linear = nn.Linear(in_channels, out_channels)\n",
        "\n",
        "    def forward(self, x, edge_index):\n",
        "        # Add self-loops to the adjacency matrix\n",
        "        # code here\n",
        "\n",
        "        # Compute normalization\n",
        "        # code here\n",
        "\n",
        "        # Perform the convolution\n",
        "        #code here\n",
        "\n",
        "    def message(self, x_j, norm):\n",
        "        return #code\n",
        "\n",
        "class GCN(nn.Module):\n",
        "    def __init__(self, num_node_features, num_classes):\n",
        "        super(GCN, self).__init__()\n",
        "\n",
        "        # code layers\n",
        "\n",
        "    def forward(self, data):\n",
        "        pass\n",
        "        # code here nad remove pass"
      ],
      "metadata": {
        "id": "ZkGRYUhnBTtx"
      },
      "execution_count": null,
      "outputs": []
    },
    {
      "cell_type": "markdown",
      "source": [
        "#Part-3:\n",
        "\n",
        "Here you to provide the custom implementation of Part-3, and then use that custom cretad layer to code the model."
      ],
      "metadata": {
        "id": "UiVJi1hTELGK"
      }
    },
    {
      "cell_type": "code",
      "source": [
        "# Part 4: Attention-based Graph Neural Network\n",
        "\n",
        "class EGATConv(MessagePassing):\n",
        "    def __init__(self, in_channels, out_channels, edge_dim, heads=1):\n",
        "        super(EGATConv, self).__init__(aggr='add', node_dim=0)\n",
        "        self.in_channels = in_channels\n",
        "        self.out_channels = out_channels\n",
        "        self.heads = heads\n",
        "        self.edge_dim = edge_dim\n",
        "\n",
        "        self.lin = nn.Linear(in_channels, heads * out_channels, bias=False)\n",
        "        self.att = nn.Linear(3 * out_channels + edge_dim, 1)\n",
        "\n",
        "        self.reset_parameters()\n",
        "\n",
        "    def reset_parameters(self):\n",
        "        nn.init.xavier_uniform_(self.lin.weight)\n",
        "        nn.init.xavier_uniform_(self.att.weight)\n",
        "\n",
        "    def forward(self, x, edge_index, edge_attr):\n",
        "        # code here\n",
        "\n",
        "    def message(self, x_i, x_j, edge_attr, index, ptr, size_i):\n",
        "        # code here\n",
        "\n",
        "    def update(self, aggr_out):\n",
        "        # code here\n",
        "\n",
        "class EGATModel(nn.Module):\n",
        "    def __init__(self, num_node_features, num_edge_features, num_classes):\n",
        "        super(EGATModel, self).__init__()\n",
        "        # code here experiment with layers\n",
        "\n",
        "    def forward(self, data):\n",
        "        # code here"
      ],
      "metadata": {
        "id": "U9DmDTosEGgl"
      },
      "execution_count": null,
      "outputs": []
    },
    {
      "cell_type": "markdown",
      "source": [
        "# write training loop"
      ],
      "metadata": {
        "id": "3pKM8lusE8K2"
      }
    },
    {
      "cell_type": "code",
      "source": [
        "# code here"
      ],
      "metadata": {
        "id": "eKDk7me9E9aA"
      },
      "execution_count": null,
      "outputs": []
    }
  ]
}