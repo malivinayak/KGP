{
  "cells": [
    {
      "cell_type": "code",
      "source": [
        "! pip install groq\n",
        "from groq import Groq\n",
        "import os"
      ],
      "metadata": {
        "collapsed": true,
        "id": "eewv6mkkQjWW"
      },
      "execution_count": null,
      "outputs": []
    },
    {
      "cell_type": "code",
      "source": [
        "os.environ['GROQ_API_KEY'] = <Your API key>"
      ],
      "metadata": {
        "id": "mBinTBf2pCnq"
      },
      "execution_count": null,
      "outputs": []
    },
    {
      "cell_type": "markdown",
      "source": [
        "# Find existance of cycle in a graph\n",
        "\n",
        "*Task Definition:* Given input undirected graph, the task is to check whether the graph contains a cycle or not.\n",
        "\n",
        "Algorithm Hint - https://www.geeksforgeeks.org/detect-cycle-in-a-graph/"
      ],
      "metadata": {
        "id": "sLK3TLn3nx9w"
      }
    },
    {
      "cell_type": "code",
      "source": [
        "prompt_cycle = \"\"\"\n",
        "\n",
        "\"\"\""
      ],
      "metadata": {
        "id": "2InOfKpWnm67"
      },
      "execution_count": null,
      "outputs": []
    },
    {
      "cell_type": "code",
      "source": [
        "Q_cycle = \"\"\"\n",
        "Graph: (0,1) (0,2) (3,4) (4,5)\n",
        "Q: Is there a cycle in the graph?\n",
        "\"\"\""
      ],
      "metadata": {
        "id": "N7Yk6xy2ni6T"
      },
      "execution_count": null,
      "outputs": []
    },
    {
      "cell_type": "markdown",
      "source": [
        "# Find degree of all nodes\n",
        "\n",
        "*Task Definition:* Given input undirected graph, the task is to find degree values of all nodes."
      ],
      "metadata": {
        "id": "wMWLU6adofWj"
      }
    },
    {
      "cell_type": "code",
      "source": [
        "prompt_degree = \"\"\"\n",
        "\n",
        "\"\"\""
      ],
      "metadata": {
        "id": "E00Q6hxfoCNQ"
      },
      "execution_count": null,
      "outputs": []
    },
    {
      "cell_type": "code",
      "source": [
        "Q_degree = \"\"\"\n",
        "Graph: (0,1) (0,2) (3,4) (4,5)\n",
        "Q: Print degree of all nodes.\n",
        "\"\"\""
      ],
      "metadata": {
        "id": "2dGI7poLoFlM"
      },
      "execution_count": null,
      "outputs": []
    },
    {
      "cell_type": "markdown",
      "source": [
        "# Find the BFS Sequence\n",
        "\n",
        "*Task Definition:* Given input undirected graph, the task is to find Breadth First Search or BFS sequence of the input graph.\n",
        "\n",
        "Algorithm Hint - https://www.geeksforgeeks.org/breadth-first-search-or-bfs-for-a-graph/"
      ],
      "metadata": {
        "id": "VEtU8zyBpHTd"
      }
    },
    {
      "cell_type": "code",
      "source": [
        "prompt_BFS = \"\"\"\n",
        "\n",
        "\"\"\""
      ],
      "metadata": {
        "id": "Erxr5EK7okFc"
      },
      "execution_count": null,
      "outputs": []
    },
    {
      "cell_type": "code",
      "source": [
        "Q_BFS = \"\"\"\n",
        "Graph: (0,1) (0,2) (2,5) (3,4) (4,5)\n",
        "Q: Find BFS sequence starting from node 0.\n",
        "\"\"\""
      ],
      "metadata": {
        "id": "WCsJGMuLolq0"
      },
      "execution_count": null,
      "outputs": []
    },
    {
      "cell_type": "markdown",
      "source": [
        "# Find the vertex cover set\n",
        "\n",
        "*Task Definition:* Given input undirected graph, the task is to find vertex cover set of the graph.\n",
        "\n",
        "Algorithm Hint - https://www.geeksforgeeks.org/vertex-cover-problem-dynamic-programming-solution-for-tree/"
      ],
      "metadata": {
        "id": "0ERwwZVksuvd"
      }
    },
    {
      "cell_type": "code",
      "source": [
        "prompt_vertex_cover = \"\"\"\n",
        "\n",
        "\"\"\""
      ],
      "metadata": {
        "id": "9EYraxuSsy0f"
      },
      "execution_count": null,
      "outputs": []
    },
    {
      "cell_type": "code",
      "source": [
        "Q_vertex_cover = \"\"\"\n",
        "Graph: (0,1) (0,2) (2,5) (3,4) (4,5)\n",
        "Q: Find the vertex cover of the graph.\n",
        "\"\"\""
      ],
      "metadata": {
        "id": "fCyB65eEs2l0"
      },
      "execution_count": null,
      "outputs": []
    },
    {
      "cell_type": "markdown",
      "source": [
        "# Find shortest path between two nodes\n",
        "\n",
        "*Task Definition:* Given input undirected weighted graph, the task is to find shortest path distance between any pair of nodes in the graph.\n",
        "\n",
        "Algorithm Hint - https://www.geeksforgeeks.org/dijkstras-shortest-path-algorithm-greedy-algo-7/"
      ],
      "metadata": {
        "id": "4TPS8zR_v0ps"
      }
    },
    {
      "cell_type": "code",
      "source": [
        "prompt_SP = \"\"\"\n",
        "\n",
        "\"\"\""
      ],
      "metadata": {
        "id": "8CTGLtW1v6Gi"
      },
      "execution_count": null,
      "outputs": []
    },
    {
      "cell_type": "code",
      "source": [
        "Q_SP = \"\"\"\n",
        "In an undirected graph, the nodes are numbered from 0 to 6, and the edges are:\n",
        "an edge between node 0 and node 1 with weight 1,\n",
        "an edge between node 1 and node 2 with weight 2,\n",
        "an edge between node 0 and node 2 with weight 4,\n",
        "an edge between node 0 and node 4 with weight 2,\n",
        "an edge between node 2 and node 6 with weight 2,\n",
        "an edge between node 4 and node 6 with weight 4,\n",
        "an edge between node 4 and node 3 with weight 5,\n",
        "an edge between node 6 and node 5 with weight 3,\n",
        "an edge between node 3 and node 5 with weight 4.\n",
        "Q: Give the shortest path from node 0 to node 5.\n",
        "\"\"\""
      ],
      "metadata": {
        "id": "bek-hC_tv-Rd"
      },
      "execution_count": null,
      "outputs": []
    },
    {
      "cell_type": "markdown",
      "source": [
        "# (BONUS) Find Minimal Spanning Tree (MST) of a graph\n",
        "\n",
        "*Task Definition:* Given input undirected weighted graph, the task is to find MST of the graph and corresponding weights in the edges of MST.\n",
        "\n",
        "Algorithm Hint - https://www.geeksforgeeks.org/kruskals-minimum-spanning-tree-algorithm-greedy-algo-2/"
      ],
      "metadata": {
        "id": "h-i69kiCwy-9"
      }
    },
    {
      "cell_type": "code",
      "source": [
        "prompt_MST = \"\"\"\n",
        "\n",
        "\"\"\""
      ],
      "metadata": {
        "id": "NI-FqWgqw3Zs"
      },
      "execution_count": null,
      "outputs": []
    },
    {
      "cell_type": "code",
      "source": [
        "Q_MST = \"\"\"\n",
        "In an undirected graph, the nodes are numbered from 0 to 6, and the edges are:\n",
        "an edge between node 0 and node 1 with weight 1,\n",
        "an edge between node 1 and node 2 with weight 2,\n",
        "an edge between node 0 and node 2 with weight 4,\n",
        "an edge between node 0 and node 4 with weight 2,\n",
        "an edge between node 2 and node 6 with weight 2,\n",
        "an edge between node 4 and node 6 with weight 4,\n",
        "an edge between node 4 and node 3 with weight 5,\n",
        "an edge between node 6 and node 5 with weight 3,\n",
        "an edge between node 3 and node 5 with weight 4.\n",
        "Q: Give the shortest path from node 0 to node 5.\n",
        "Q: Find Minimal Spanning Tree (MST) of the graph and weight of the edges of the MST.\n",
        "\"\"\""
      ],
      "metadata": {
        "id": "Bv93lP4Sw7S6"
      },
      "execution_count": null,
      "outputs": []
    },
    {
      "cell_type": "code",
      "source": [
        "task = 'MST' # Task Choices - [Degree,Cycle,BFS,vertex_cover,shotest_path,MST]"
      ],
      "metadata": {
        "id": "fcJ2xoMhqqg4"
      },
      "execution_count": null,
      "outputs": []
    },
    {
      "cell_type": "code",
      "source": [
        "if task == 'Degree':\n",
        "  Q = prompt_degree +\"\\n\"+Q_degree\n",
        "elif task == 'Cycle':\n",
        "  Q = prompt_cycle +\"\\n\"+Q_cycle\n",
        "elif task == 'BFS':\n",
        "  Q = prompt_BFS +\"\\n\"+Q_BFS\n",
        "elif task == 'vertex_cover':\n",
        "  Q = prompt_vertex_cover +\"\\n\"+Q_vertex_cover\n",
        "elif task == 'shotest_path':\n",
        "  Q = prompt_SP +\"\\n\"+Q_SP\n",
        "elif task == 'MST':\n",
        "  Q = prompt_MST +\"\\n\"+Q_MST\n",
        "print(Q)"
      ],
      "metadata": {
        "id": "1rm2qEfyWidy"
      },
      "execution_count": null,
      "outputs": []
    },
    {
      "cell_type": "code",
      "source": [
        "client = Groq()\n",
        "completion = client.chat.completions.create(\n",
        "    model=\"llama3-70b-8192\",\n",
        "    messages=[\n",
        "        {\n",
        "            \"role\": \"user\",\n",
        "            \"content\": Q\n",
        "        }\n",
        "    ],\n",
        "    temperature=1,\n",
        "    max_tokens=1024,\n",
        "    top_p=1,\n",
        "    stream=True,\n",
        "    stop=None,\n",
        ")\n",
        "for chunk in completion:\n",
        "    print(chunk.choices[0].delta.content or \"\", end=\"\")"
      ],
      "metadata": {
        "id": "o5v2J3TpnfEb"
      },
      "execution_count": null,
      "outputs": []
    }
  ],
  "metadata": {
    "accelerator": "GPU",
    "colab": {
      "gpuType": "T4",
      "provenance": []
    },
    "kernelspec": {
      "display_name": "Python 3",
      "name": "python3"
    },
    "language_info": {
      "name": "python"
    }
  },
  "nbformat": 4,
  "nbformat_minor": 0
}