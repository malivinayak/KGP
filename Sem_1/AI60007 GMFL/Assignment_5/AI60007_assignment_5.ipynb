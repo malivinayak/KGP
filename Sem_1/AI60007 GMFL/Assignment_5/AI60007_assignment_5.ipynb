{
  "cells": [
    {
      "cell_type": "markdown",
      "source": [
        "<h3> Group No: 14</h3>\n",
        "<h3> Name : Vinayak Mali, Saurabh Jaiswal </h3>\n",
        "<h3> Roll No.: 24AI60R13, 24AI60R46</h3>"
      ],
      "metadata": {
        "id": "PQ_x4EWrZ3qW"
      }
    },
    {
      "cell_type": "code",
      "source": [
        "! pip install groq\n",
        "from groq import Groq\n",
        "import os"
      ],
      "metadata": {
        "collapsed": true,
        "id": "eewv6mkkQjWW",
        "colab": {
          "base_uri": "https://localhost:8080/"
        },
        "outputId": "e193c9d9-4848-40c8-e4b2-fa4b0202cdb5"
      },
      "execution_count": 1,
      "outputs": [
        {
          "output_type": "stream",
          "name": "stdout",
          "text": [
            "Collecting groq\n",
            "  Downloading groq-0.11.0-py3-none-any.whl.metadata (13 kB)\n",
            "Requirement already satisfied: anyio<5,>=3.5.0 in /usr/local/lib/python3.10/dist-packages (from groq) (3.7.1)\n",
            "Requirement already satisfied: distro<2,>=1.7.0 in /usr/local/lib/python3.10/dist-packages (from groq) (1.9.0)\n",
            "Requirement already satisfied: httpx<1,>=0.23.0 in /usr/local/lib/python3.10/dist-packages (from groq) (0.27.2)\n",
            "Requirement already satisfied: pydantic<3,>=1.9.0 in /usr/local/lib/python3.10/dist-packages (from groq) (2.9.2)\n",
            "Requirement already satisfied: sniffio in /usr/local/lib/python3.10/dist-packages (from groq) (1.3.1)\n",
            "Requirement already satisfied: typing-extensions<5,>=4.7 in /usr/local/lib/python3.10/dist-packages (from groq) (4.12.2)\n",
            "Requirement already satisfied: idna>=2.8 in /usr/local/lib/python3.10/dist-packages (from anyio<5,>=3.5.0->groq) (3.10)\n",
            "Requirement already satisfied: exceptiongroup in /usr/local/lib/python3.10/dist-packages (from anyio<5,>=3.5.0->groq) (1.2.2)\n",
            "Requirement already satisfied: certifi in /usr/local/lib/python3.10/dist-packages (from httpx<1,>=0.23.0->groq) (2024.8.30)\n",
            "Requirement already satisfied: httpcore==1.* in /usr/local/lib/python3.10/dist-packages (from httpx<1,>=0.23.0->groq) (1.0.6)\n",
            "Requirement already satisfied: h11<0.15,>=0.13 in /usr/local/lib/python3.10/dist-packages (from httpcore==1.*->httpx<1,>=0.23.0->groq) (0.14.0)\n",
            "Requirement already satisfied: annotated-types>=0.6.0 in /usr/local/lib/python3.10/dist-packages (from pydantic<3,>=1.9.0->groq) (0.7.0)\n",
            "Requirement already satisfied: pydantic-core==2.23.4 in /usr/local/lib/python3.10/dist-packages (from pydantic<3,>=1.9.0->groq) (2.23.4)\n",
            "Downloading groq-0.11.0-py3-none-any.whl (106 kB)\n",
            "\u001b[2K   \u001b[90m━━━━━━━━━━━━━━━━━━━━━━━━━━━━━━━━━━━━━━━━\u001b[0m \u001b[32m106.5/106.5 kB\u001b[0m \u001b[31m3.7 MB/s\u001b[0m eta \u001b[36m0:00:00\u001b[0m\n",
            "\u001b[?25hInstalling collected packages: groq\n",
            "Successfully installed groq-0.11.0\n"
          ]
        }
      ]
    },
    {
      "cell_type": "code",
      "source": [
        "os.environ['GROQ_API_KEY'] = \"KEY\""
      ],
      "metadata": {
        "id": "mBinTBf2pCnq"
      },
      "execution_count": 3,
      "outputs": []
    },
    {
      "cell_type": "markdown",
      "source": [
        "# Find existance of cycle in a graph\n",
        "\n",
        "*Task Definition:* Given input undirected graph, the task is to check whether the graph contains a cycle or not.\n",
        "\n",
        "Algorithm Hint - https://www.geeksforgeeks.org/detect-cycle-in-a-graph/"
      ],
      "metadata": {
        "id": "sLK3TLn3nx9w"
      }
    },
    {
      "cell_type": "code",
      "source": [
        "prompt_cycle = \"\"\"\n",
        "You are tasked with determining if a given directed graph contains cycles and counting the total number of cycles. A cycle in a directed graph is a path that starts and ends at the same vertex, following the direction of the edges.\n",
        "\n",
        "### Input\n",
        "You will receive a representation of the graph in the form of directed edges. Each edge connects two vertices in the format (u, v), indicating a directed edge from vertex `u` to vertex `v`.\n",
        "\n",
        "### Output\n",
        "1. If cycles are present, return \"Yes, there are a total of X cycles.\" Followed by an explanation of the cycles found in the graph.\n",
        "2. If no cycles are found, return \"No, there are no cycles in the graph.\" Explain that the graph is acyclic.\n",
        "\n",
        "### Example\n",
        "Consider the following graph representation:\n",
        "Graph: (0,1) (1,2) (2,0) (3,4) (4,5) (5,3) (6,7) (7,8) (8,6) (1,3) (2,4) (0,6)\n",
        "\n",
        "- Q: Is there a cycle in this graph?\n",
        "\n",
        "### Explanation of the Graph:\n",
        "- Cycle 1: (0 → 1 → 2 → 0)\n",
        "- Cycle 2: (3 → 4 → 5 → 3)\n",
        "- Cycle 3: (6 → 7 → 8 → 6)\n",
        "\n",
        "### Approach\n",
        "To detect and count cycles in a directed graph, you can use Depth First Search (DFS). During the traversal, maintain a visited list and a recursion stack to track the vertices being explored.\n",
        "\n",
        "1. Mark the current vertex as visited and add it to the recursion stack.\n",
        "2. For each adjacent vertex, check:\n",
        "   - If it has not been visited, recurse on it.\n",
        "   - If it is in the recursion stack, a cycle is detected.\n",
        "3. To count cycles, store the cycles in a list as they are found.\n",
        "4. After exploring all adjacent vertices, remove the current vertex from the recursion stack.\n",
        "\n",
        "If any vertex leads to a cycle, return the number of cycles found along with their paths. If all vertices are processed without finding a cycle, state that the graph is acyclic.\n",
        "\n",
        "Now, evaluate the input graph for cycles.\n",
        "\"\"\"\n"
      ],
      "metadata": {
        "id": "2InOfKpWnm67"
      },
      "execution_count": 4,
      "outputs": []
    },
    {
      "cell_type": "code",
      "source": [
        "Q_cycle = \"\"\"\n",
        "Graph: (0,1) (1,0) (2,3) (3,0) (4,5) (5,6) (6,4) (7,8) (8,9) (9,10) (10,11) (11,7) (12,13) (13,14) (14,12) (15,16) (16,17) (17,18) (18,15) (19,0) (3,19)\n",
        "Q: Is there a cycle in the graph?\n",
        "\"\"\"\n"
      ],
      "metadata": {
        "id": "N7Yk6xy2ni6T"
      },
      "execution_count": 5,
      "outputs": []
    },
    {
      "cell_type": "markdown",
      "source": [
        "# Find degree of all nodes\n",
        "\n",
        "*Task Definition:* Given input undirected graph, the task is to find degree values of all nodes."
      ],
      "metadata": {
        "id": "wMWLU6adofWj"
      }
    },
    {
      "cell_type": "code",
      "source": [
        "prompt_degree = \"\"\"\n",
        "You are tasked with calculating the degree of each vertex in a given graph. The degree of a vertex is crucial for understanding the graph's structure and connectivity.\n",
        "\n",
        "### Definitions\n",
        "1. **Undirected Graph**:\n",
        "   - **Degree (deg(v))**: The degree of a vertex \\( v \\) is the number of edges connected to it. Each edge contributes 1 to the degree of both endpoints.\n",
        "\n",
        "2. **Directed Graph**:\n",
        "   - **In-Degree (indeg(v))**: The number of edges directed towards vertex \\( v \\).\n",
        "   - **Out-Degree (outdeg(v))**: The number of edges directed away from vertex \\( v \\).\n",
        "   - **Total Degree**: The sum of in-degree and out-degree, but typically in-degree and out-degree are examined separately.\n",
        "\n",
        "### Input Format\n",
        "You will receive a list of edges representing the graph in the format (u, v). If the input does not explicitly state whether the graph is directed or undirected, you should analyze the edges:\n",
        "\n",
        "- If any edge appears in both directions (e.g., (11, 12) and (12, 11)), treat the graph as directed and calculate the degrees accordingly.\n",
        "- If no edges indicate directionality, assume the graph is undirected.\n",
        "\n",
        "### Output Format\n",
        "Print the degree of each vertex in the graph. For directed graphs, provide both in-degree and out-degree for each vertex. For undirected graphs, simply print the total degree.\n",
        "\n",
        "### Example\n",
        "Consider the following graph representation:\n",
        "Graph: (0,1) (0,2) (1,2) (3,4) (4,5) (5,3) (11,12) (12,11)\n",
        "\n",
        "- Q: Calculate and print the degree of all vertices.\n",
        "\n",
        "### Approach\n",
        "To calculate the degrees in the graph, follow these steps:\n",
        "\n",
        "1. **Determine Graph Type**:\n",
        "   - Check the edges for any bidirectional connections. If found, treat the graph as directed.\n",
        "\n",
        "2. **Initialize Degree Counters**:\n",
        "   - For directed graphs, create two dictionaries: one for in-degrees and one for out-degrees. For undirected graphs, create a single dictionary for the degree.\n",
        "\n",
        "3. **Iterate Through Edges**:\n",
        "   - For each edge (u, v):\n",
        "     - If the graph is directed: Increment the out-degree of `u` and the in-degree of `v`.\n",
        "     - If the graph is undirected: Increment the degree of both `u` and `v`.\n",
        "\n",
        "4. **Output the Results**:\n",
        "   - After processing all edges, print the degree of each vertex. For directed graphs, include both in-degrees and out-degrees. For undirected graphs, display the total degree.\n",
        "\n",
        "### Complexity\n",
        "- **Time Complexity**: O(E), where E is the number of edges.\n",
        "- **Space Complexity**: O(V), where V is the number of vertices.\n",
        "\n",
        "### Considerations\n",
        "- Handle disconnected graphs, ensuring all vertices are included in the output, even if their degree is zero.\n",
        "- Ensure valid input format and edge cases, such as self-loops and parallel edges.\n",
        "\n",
        "By analyzing the edges for directional indicators, you can accurately determine the graph's structure and calculate the degrees appropriately.\n",
        "\n",
        "Now, evaluate the input graph and calculate the degree of each vertex.\n",
        "\"\"\"\n"
      ],
      "metadata": {
        "id": "E00Q6hxfoCNQ"
      },
      "execution_count": 6,
      "outputs": []
    },
    {
      "cell_type": "code",
      "source": [
        "Q_degree = \"\"\"\n",
        "Graph: (0,1) (0,2) (3,4) (4,5)\n",
        "Q: Print degree of all nodes.\n",
        "\"\"\""
      ],
      "metadata": {
        "id": "2dGI7poLoFlM"
      },
      "execution_count": 7,
      "outputs": []
    },
    {
      "cell_type": "markdown",
      "source": [
        "# Find the BFS Sequence\n",
        "\n",
        "*Task Definition:* Given input undirected graph, the task is to find Breadth First Search or BFS sequence of the input graph.\n",
        "\n",
        "Algorithm Hint - https://www.geeksforgeeks.org/breadth-first-search-or-bfs-for-a-graph/"
      ],
      "metadata": {
        "id": "VEtU8zyBpHTd"
      }
    },
    {
      "cell_type": "code",
      "source": [
        "prompt_BFS = \"\"\"\n",
        "You are tasked with finding the Breadth First Search (BFS) sequence of a given undirected graph. BFS is a fundamental graph traversal algorithm that explores vertices level by level, starting from a specified source vertex.\n",
        "\n",
        "### Definitions\n",
        "- **Breadth First Search (BFS)**: This algorithm begins with a source node, traverses all of its adjacent nodes, and then proceeds to their adjacent nodes, ensuring that vertices closest to the source are visited first. BFS is commonly implemented using a queue data structure.\n",
        "\n",
        "### BFS Algorithm Overview\n",
        "1. **Initialization**: Start with the source vertex, marking it as visited and enqueueing it.\n",
        "2. **Exploration**: While the queue is not empty:\n",
        "   - Dequeue a vertex, visit it (e.g., print its value).\n",
        "   - For each unvisited neighbor of the dequeued vertex, mark it as visited and enqueue it.\n",
        "3. **Termination**: Repeat the exploration until all reachable vertices have been visited.\n",
        "\n",
        "### Input Format\n",
        "You will receive a list of edges representing the graph in the format (u, v). The graph may be directed or undirected. If the input does not specify the type, assume the graph is undirected, except for edges that explicitly indicate directionality (e.g., if both (u, v) and (v, u) are present).\n",
        "\n",
        "### Output Format\n",
        "Print the BFS traversal sequence starting from the specified source vertex.\n",
        "\n",
        "### Example\n",
        "Consider the following graph representation:\n",
        "Graph: (0,1) (0,2) (2,5) (3,4) (4,5)\n",
        "\n",
        "- Q: Find the BFS sequence starting from node 0.\n",
        "\n",
        "### Approach\n",
        "To perform BFS, follow these steps:\n",
        "1. Create a queue to hold the vertices to be explored.\n",
        "2. Use a boolean array to keep track of visited vertices.\n",
        "3. Start from the given source node, marking it as visited and enqueueing it.\n",
        "4. Continue exploring the graph using the queue until all reachable nodes are processed.\n",
        "\n",
        "### Complexity Analysis\n",
        "- **Time Complexity**: O(V + E), where V is the number of vertices and E is the number of edges in the graph.\n",
        "- **Auxiliary Space**: O(V), as the algorithm uses a queue to keep track of vertices.\n",
        "\n",
        "### Applications of BFS\n",
        "BFS has various applications, including:\n",
        "- Finding the shortest path in unweighted graphs.\n",
        "- Detecting cycles in graphs.\n",
        "- Identifying connected components.\n",
        "- Topological sorting of directed acyclic graphs (DAGs).\n",
        "- Level order traversal in binary trees.\n",
        "- Network routing.\n",
        "\n",
        "Now, evaluate the input graph and determine the BFS sequence starting from the specified node.\n",
        "\"\"\"\n"
      ],
      "metadata": {
        "id": "Erxr5EK7okFc"
      },
      "execution_count": 8,
      "outputs": []
    },
    {
      "cell_type": "code",
      "source": [
        "Q_BFS = \"\"\"\n",
        "Graph: (0,1) (0,2) (2,5) (3,4) (4,5)\n",
        "Q: Find BFS sequence starting from node 0.\n",
        "\"\"\""
      ],
      "metadata": {
        "id": "WCsJGMuLolq0"
      },
      "execution_count": 9,
      "outputs": []
    },
    {
      "cell_type": "markdown",
      "source": [
        "# Find the vertex cover set\n",
        "\n",
        "*Task Definition:* Given input undirected graph, the task is to find vertex cover set of the graph.\n",
        "\n",
        "Algorithm Hint - https://www.geeksforgeeks.org/vertex-cover-problem-dynamic-programming-solution-for-tree/"
      ],
      "metadata": {
        "id": "0ERwwZVksuvd"
      }
    },
    {
      "cell_type": "code",
      "source": [
        "prompt_vertex_cover = \"\"\" You are tasked with finding the minimum vertex cover for a given undirected graph using a dynamic programming approach. The vertex cover problem is a fundamental challenge in graph theory that involves selecting a subset of vertices such that every edge in the graph has at least one endpoint in this subset.\n",
        "Definitions\n",
        "\n",
        "    Vertex Cover: A set of vertices V′⊆VV′⊆V such that for every edge (u,v)∈E(u,v)∈E, at least one of uu or vv is included in V′V′.\n",
        "    NP-Completeness: Finding the minimum vertex cover is NP-complete for general graphs, but efficient algorithms exist for specific graph types, such as trees.\n",
        "\n",
        "Vertex Cover Algorithm Overview\n",
        "\n",
        "    Graph Representation: The graph is represented as a list of edges. Each edge connects two vertices.\n",
        "    Dynamic Programming Approach:\n",
        "        Use a recursive depth-first search (DFS) to explore the graph while maintaining a memoization table to avoid redundant calculations.\n",
        "        For each vertex, consider two scenarios:\n",
        "            Including the vertex: This covers all edges incident to it, allowing its children to be excluded from the vertex cover.\n",
        "            Excluding the vertex: This requires including all of its children to cover the edges connecting to it.\n",
        "        Store the results in a memoization table to optimize performance.\n",
        "\n",
        "Input Format\n",
        "\n",
        "You will receive a list of edges representing the undirected graph in the format (u, v).\n",
        "Output Format\n",
        "\n",
        "Print the size of the minimum vertex cover for the given graph.\n",
        "Example\n",
        "\n",
        "Consider the following graph representation: Graph: (0,1) (0,2) (2,5) (3,4) (4,5)\n",
        "\n",
        "    Q: Find the vertex cover of the graph.\n",
        "\n",
        "Approach\n",
        "\n",
        "To solve the vertex cover problem:\n",
        "\n",
        "    Create an adjacency list to represent the graph.\n",
        "    Initialize a memoization table to store the minimum cover sizes for each vertex.\n",
        "    Implement a recursive function that explores each vertex, calculating the size of the vertex cover based on whether the vertex is included or excluded.\n",
        "    Return the minimum size of the vertex cover after evaluating all vertices.\n",
        "\n",
        "Applications of Vertex Cover\n",
        "\n",
        "The vertex cover problem has various applications, including:\n",
        "\n",
        "    Network design.\n",
        "    Resource allocation in scheduling problems.\n",
        "    Approximating solutions for other NP-hard problems.\n",
        "\n",
        "Now, evaluate the input graph and determine the size of the minimum vertex cover using the dynamic programming approach. \"\"\""
      ],
      "metadata": {
        "id": "9EYraxuSsy0f"
      },
      "execution_count": 10,
      "outputs": []
    },
    {
      "cell_type": "code",
      "source": [
        "Q_vertex_cover = \"\"\"\n",
        "Graph: (0,1) (0,2) (2,5) (3,4) (4,5)\n",
        "Q: Find the vertex cover of the graph.\n",
        "\"\"\""
      ],
      "metadata": {
        "id": "fCyB65eEs2l0"
      },
      "execution_count": 11,
      "outputs": []
    },
    {
      "cell_type": "markdown",
      "source": [
        "# Find shortest path between two nodes\n",
        "\n",
        "*Task Definition:* Given input undirected weighted graph, the task is to find shortest path distance between any pair of nodes in the graph.\n",
        "\n",
        "Algorithm Hint - https://www.geeksforgeeks.org/dijkstras-shortest-path-algorithm-greedy-algo-7/"
      ],
      "metadata": {
        "id": "4TPS8zR_v0ps"
      }
    },
    {
      "cell_type": "code",
      "source": [
        "prompt_SP = \"\"\"\n",
        "You are tasked with finding the shortest path distances between any pair of nodes in an undirected weighted graph that may contain negative edge weights and loops.\n",
        "\n",
        "### Definitions\n",
        "- **Shortest Path**: The shortest path from a source vertex to a target vertex is the path that has the minimum total weight (sum of the weights of the edges) among all possible paths connecting the two vertices.\n",
        "- **Negative Weight Edge**: An edge that decreases the total weight of the path when traversed.\n",
        "- **Loop**: An edge that connects a vertex to itself.\n",
        "\n",
        "### Bellman-Ford Algorithm Overview\n",
        "The Bellman-Ford algorithm is suitable for finding the shortest paths from a single source vertex to all other vertices in a graph that may contain negative weights. The algorithm works as follows:\n",
        "\n",
        "1. **Initialization**: Set the distance to the source vertex to 0 and all other vertices to infinity.\n",
        "2. **Relaxation**: For each vertex, update the distances to its neighboring vertices. Repeat this process for a total of \\(V-1\\) times (where \\(V\\) is the number of vertices).\n",
        "3. **Negative Cycle Detection**: After the relaxation step, perform one more iteration. If any distance can still be updated, a negative weight cycle exists in the graph.\n",
        "\n",
        "### Input Format\n",
        "You will receive a list of edges representing the graph in the format (u, v, weight), where `u` and `v` are the connected vertices, and `weight` is the edge weight. The graph may contain multiple edges between the same pair of vertices and may include negative weights.\n",
        "\n",
        "### Output Format\n",
        "Print the shortest path distances from the source vertex to all other vertices in the graph. If a negative weight cycle is detected, indicate that a negative cycle exists.\n",
        "\n",
        "### Example\n",
        "Consider the following graph representation:\n",
        "- **Q**: Find the shortest path distances starting from node 0.\n",
        "\n",
        "### Approach\n",
        "1. Initialize the distance to the source vertex and set all others to infinity.\n",
        "2. Perform the relaxation process for \\(V-1\\) iterations.\n",
        "3. Check for negative cycles after the relaxation steps.\n",
        "4. Print the resulting shortest path distances or indicate the presence of a negative cycle.\n",
        "\n",
        "### Notes\n",
        "- The Bellman-Ford algorithm works even with graphs that have negative weight edges.\n",
        "- Ensure the graph is well-defined before running the algorithm to avoid infinite loops or incorrect results.\n",
        "\n",
        "Now, evaluate the input graph and determine the shortest path distances starting from the specified source node.\n",
        "\"\"\"\n"
      ],
      "metadata": {
        "id": "8CTGLtW1v6Gi"
      },
      "execution_count": 12,
      "outputs": []
    },
    {
      "cell_type": "code",
      "source": [
        "Q_SP = \"\"\"\n",
        "In an undirected graph, the nodes are numbered from 0 to 6, and the edges are:\n",
        "an edge between node 0 and node 1 with weight 1,\n",
        "an edge between node 1 and node 2 with weight 2,\n",
        "an edge between node 0 and node 2 with weight 4,\n",
        "an edge between node 0 and node 4 with weight 2,\n",
        "an edge between node 2 and node 6 with weight 2,\n",
        "an edge between node 4 and node 6 with weight 4,\n",
        "an edge between node 4 and node 3 with weight 5,\n",
        "an edge between node 6 and node 5 with weight 3,\n",
        "an edge between node 3 and node 5 with weight 4.\n",
        "Q: Give the shortest path from node 0 to node 5.\n",
        "\"\"\""
      ],
      "metadata": {
        "id": "bek-hC_tv-Rd"
      },
      "execution_count": 13,
      "outputs": []
    },
    {
      "cell_type": "markdown",
      "source": [
        "# (BONUS) Find Minimal Spanning Tree (MST) of a graph\n",
        "\n",
        "*Task Definition:* Given input undirected weighted graph, the task is to find MST of the graph and corresponding weights in the edges of MST.\n",
        "\n",
        "Algorithm Hint - https://www.geeksforgeeks.org/kruskals-minimum-spanning-tree-algorithm-greedy-algo-2/"
      ],
      "metadata": {
        "id": "h-i69kiCwy-9"
      }
    },
    {
      "cell_type": "code",
      "source": [
        "prompt_MST = \"\"\"\n",
        "You are tasked with finding the Minimum Spanning Tree (MST) of a given undirected weighted graph using Kruskal's algorithm.\n",
        "\n",
        "### Definitions\n",
        "- **Minimum Spanning Tree (MST)**: A spanning tree of a weighted, undirected graph that has the minimum possible total edge weight among all spanning trees.\n",
        "- **Kruskal's Algorithm**: A greedy algorithm that finds the MST by sorting all edges of the graph in increasing order and adding them one by one to the MST, ensuring that no cycles are formed.\n",
        "\n",
        "### Steps to Find MST using Kruskal's Algorithm\n",
        "1. **Sort the edges** in non-decreasing order of their weight.\n",
        "2. Initialize a result list to store the edges of the MST.\n",
        "3. Use the Union-Find data structure to keep track of which vertices are connected.\n",
        "4. Iterate through the sorted edges and:\n",
        "   - If adding an edge does not form a cycle, include it in the MST.\n",
        "   - Use the union operation to connect the two vertices of the edge.\n",
        "5. Stop when you have included (V-1) edges in the MST, where V is the number of vertices in the graph.\n",
        "\n",
        "### Input Format\n",
        "You will receive the number of vertices and a list of edges, each defined by a tuple (u, v, weight) representing an edge between vertex `u` and vertex `v` with the given `weight`.\n",
        "\n",
        "### Output Format\n",
        "Print the edges included in the MST and the total weight of the MST.\n",
        "\n",
        "### Approach\n",
        "1. Sort the edges based on their weights.\n",
        "2. Use the Union-Find structure to avoid cycles.\n",
        "3. Collect the edges for the MST and calculate the total weight.\n",
        "4. Output the edges in the MST along with the total weight.\n",
        "\n",
        "Now, evaluate the input graph and determine the edges in the MST along with their corresponding weights.\n",
        "\"\"\"\n"
      ],
      "metadata": {
        "id": "NI-FqWgqw3Zs"
      },
      "execution_count": 14,
      "outputs": []
    },
    {
      "cell_type": "code",
      "source": [
        "Q_MST = \"\"\"\n",
        "In an undirected graph, the nodes are numbered from 0 to 6, and the edges are:\n",
        "an edge between node 0 and node 1 with weight 1,\n",
        "an edge between node 1 and node 2 with weight 2,\n",
        "an edge between node 0 and node 2 with weight 4,\n",
        "an edge between node 0 and node 4 with weight 2,\n",
        "an edge between node 2 and node 6 with weight 2,\n",
        "an edge between node 4 and node 6 with weight 4,\n",
        "an edge between node 4 and node 3 with weight 5,\n",
        "an edge between node 6 and node 5 with weight 3,\n",
        "an edge between node 3 and node 5 with weight 4.\n",
        "Q: Give the shortest path from node 0 to node 5.\n",
        "Q: Find Minimal Spanning Tree (MST) of the graph and weight of the edges of the MST.\n",
        "\"\"\""
      ],
      "metadata": {
        "id": "Bv93lP4Sw7S6"
      },
      "execution_count": 15,
      "outputs": []
    },
    {
      "cell_type": "markdown",
      "source": [
        "# Execution"
      ],
      "metadata": {
        "id": "70Kj0YJg9sdX"
      }
    },
    {
      "cell_type": "code",
      "source": [
        "task = 'Degree' # Task Choices - [Degree,Cycle,BFS,vertex_cover,shotest_path,MST]"
      ],
      "metadata": {
        "id": "fcJ2xoMhqqg4"
      },
      "execution_count": 28,
      "outputs": []
    },
    {
      "cell_type": "code",
      "source": [
        "if task == 'Degree':\n",
        "  Q = prompt_degree +\"\\n\"+Q_degree\n",
        "elif task == 'Cycle':\n",
        "  Q = prompt_cycle +\"\\n\"+Q_cycle\n",
        "elif task == 'BFS':\n",
        "  Q = prompt_BFS +\"\\n\"+Q_BFS\n",
        "elif task == 'vertex_cover':\n",
        "  Q = prompt_vertex_cover +\"\\n\"+Q_vertex_cover\n",
        "elif task == 'shotest_path':\n",
        "  Q = prompt_SP +\"\\n\"+Q_SP\n",
        "elif task == 'MST':\n",
        "  Q = prompt_MST +\"\\n\"+Q_MST\n",
        "\n",
        "print(Q)"
      ],
      "metadata": {
        "id": "1rm2qEfyWidy"
      },
      "execution_count": null,
      "outputs": []
    },
    {
      "cell_type": "code",
      "source": [
        "client = Groq()\n",
        "completion = client.chat.completions.create(\n",
        "    model=\"llama3-70b-8192\",\n",
        "    messages=[\n",
        "        {\n",
        "            \"role\": \"user\",\n",
        "            \"content\": Q\n",
        "        }\n",
        "    ],\n",
        "    temperature=1,\n",
        "    max_tokens=7168,\n",
        "    top_p=1,\n",
        "    stream=True,\n",
        "    stop=None,\n",
        ")\n",
        "for chunk in completion:\n",
        "    print(chunk.choices[0].delta.content or \"\", end=\"\")"
      ],
      "metadata": {
        "id": "o5v2J3TpnfEb"
      },
      "execution_count": null,
      "outputs": []
    },
    {
      "cell_type": "markdown",
      "source": [
        "## Thank You"
      ],
      "metadata": {
        "id": "TjG99NhyY4L2"
      }
    }
  ],
  "metadata": {
    "colab": {
      "provenance": [],
      "collapsed_sections": [
        "sLK3TLn3nx9w",
        "wMWLU6adofWj",
        "VEtU8zyBpHTd",
        "0ERwwZVksuvd",
        "4TPS8zR_v0ps",
        "h-i69kiCwy-9",
        "70Kj0YJg9sdX"
      ]
    },
    "kernelspec": {
      "display_name": "Python 3",
      "name": "python3"
    },
    "language_info": {
      "name": "python"
    }
  },
  "nbformat": 4,
  "nbformat_minor": 0
}