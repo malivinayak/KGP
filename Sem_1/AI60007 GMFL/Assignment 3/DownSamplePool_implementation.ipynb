{
  "nbformat": 4,
  "nbformat_minor": 0,
  "metadata": {
    "colab": {
      "provenance": []
    },
    "kernelspec": {
      "name": "python3",
      "display_name": "Python 3"
    },
    "language_info": {
      "name": "python"
    }
  },
  "cells": [
    {
      "cell_type": "code",
      "source": [
        "# install required packages here\n",
        "!pip3 install numpy\n",
        "!pip3 install torch\n",
        "!pip3 install networkx\n",
        "!pip3 install matplotlib\n",
        "!pip install torch_geometric"
      ],
      "metadata": {
        "id": "O2rvuQzzg6xi"
      },
      "execution_count": null,
      "outputs": []
    },
    {
      "cell_type": "code",
      "execution_count": null,
      "metadata": {
        "id": "NCRP11UXbsrZ"
      },
      "outputs": [],
      "source": [
        "# import required packages here\n",
        "import os\n",
        "import torch\n",
        "import scipy\n",
        "import argparse\n",
        "import seaborn\n",
        "import numpy as np\n",
        "from tqdm import tqdm\n",
        "import torch.nn as nn\n",
        "import torch.optim as optim\n",
        "import torch.nn.functional as F\n",
        "import matplotlib.pyplot as plt\n",
        "from torch.utils.data import Dataset\n",
        "from torch_geometric.datasets import TUDataset\n",
        "from sklearn.model_selection import train_test_split\n",
        "from torch_geometric.utils import to_dense_adj\n",
        "from torch.utils.data import DataLoader, random_split"
      ]
    },
    {
      "cell_type": "code",
      "source": [
        "# Implementation of GCN Model\n",
        "class GCN(nn.Module):\n",
        "    '''\n",
        "    Implementation of GCN[Kipf et. al.] as Basic GNN module.\n",
        "    '''\n",
        "    def __init__(self):\n",
        "        super().__init__()\n",
        "        '''\n",
        "        Write your Code here\n",
        "        '''\n",
        "\n",
        "    def forward(self, x, adj):\n",
        "        '''\n",
        "        Write your Code here\n",
        "        '''"
      ],
      "metadata": {
        "id": "6yrK5cuPe-j-"
      },
      "execution_count": null,
      "outputs": []
    },
    {
      "cell_type": "code",
      "source": [
        "# Implementation of DownSamplePool Model\n",
        "class DownSamplePool(nn.Module):\n",
        "    '''\n",
        "    Implementation of DownSample&Pool Module.\n",
        "    '''\n",
        "    def __init__(self):\n",
        "        super(DownSamplePool, self).__init__()\n",
        "        '''\n",
        "        Write your Code here\n",
        "        '''\n",
        "\n",
        "    def forward(self):\n",
        "        '''\n",
        "        Write your Code here\n",
        "        '''\n"
      ],
      "metadata": {
        "id": "SrOiXK_ZfGJG"
      },
      "execution_count": null,
      "outputs": []
    },
    {
      "cell_type": "code",
      "source": [
        "# Implementation of Additional Util Classes (If Needed)\n",
        "\n",
        "        '''\n",
        "        Write your Code here\n",
        "        '''"
      ],
      "metadata": {
        "id": "itj4ji2R46DR"
      },
      "execution_count": null,
      "outputs": []
    },
    {
      "cell_type": "code",
      "source": [
        "class Model(nn.Module):\n",
        "    '''\n",
        "    Architecture of Overall Graph Classifier.\n",
        "    '''\n",
        "    def __init__(self):\n",
        "        super().__init__()\n",
        "        '''\n",
        "        Write your Code here\n",
        "        '''\n",
        "\n",
        "    def forward(self, x, adj):\n",
        "        '''\n",
        "        Write your Code here\n",
        "        '''"
      ],
      "metadata": {
        "id": "nNeVE5HyfQhP"
      },
      "execution_count": null,
      "outputs": []
    },
    {
      "cell_type": "code",
      "source": [
        "# Implementation of Additional Classes for loading dataset and preparing data loader (If Needed)\n",
        "        '''\n",
        "        Write your Code here\n",
        "        '''"
      ],
      "metadata": {
        "id": "wl8_3-EqexBc"
      },
      "execution_count": null,
      "outputs": []
    },
    {
      "cell_type": "code",
      "source": [
        "def main():\n",
        "    '''\n",
        "    Write your Code here\n",
        "    '''\n"
      ],
      "metadata": {
        "id": "CgoMpmCccOAh"
      },
      "execution_count": null,
      "outputs": []
    },
    {
      "cell_type": "code",
      "source": [
        "main()"
      ],
      "metadata": {
        "id": "dgSdTg3clBNW"
      },
      "execution_count": null,
      "outputs": []
    }
  ]
}